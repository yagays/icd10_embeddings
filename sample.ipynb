{
 "cells": [
  {
   "cell_type": "code",
   "execution_count": 1,
   "metadata": {},
   "outputs": [],
   "source": [
    "import json\n",
    "\n",
    "from gensim.models import KeyedVectors"
   ]
  },
  {
   "cell_type": "code",
   "execution_count": 2,
   "metadata": {},
   "outputs": [],
   "source": [
    "def search_by_icd(icd_code, model, icd_name):\n",
    "    results = model.most_similar(icd_code)\n",
    "    for result in results:\n",
    "        print(result[0], icd_name[result[0]], result[1])"
   ]
  },
  {
   "cell_type": "code",
   "execution_count": 3,
   "metadata": {},
   "outputs": [],
   "source": [
    "model = KeyedVectors.load_word2vec_format(f\"icd10_embeddings.txt\", binary=False)\n",
    "with open(\"icd_name.json\") as f:\n",
    "    icd_name = json.load(f)"
   ]
  },
  {
   "cell_type": "code",
   "execution_count": 4,
   "metadata": {},
   "outputs": [
    {
     "name": "stdout",
     "output_type": "stream",
     "text": [
      "R42 めまい/めまい感/めまい発作 0.852439820766449\n",
      "M5422 頚部痛/項部痛/頚性頭痛 0.8435155749320984\n",
      "R101 心窩部痛/胃痛/上腹部痛 0.8268922567367554\n",
      "R104 腹部圧痛/側腹部痛/腹痛症 0.8133379220962524\n",
      "M5456 腰痛症/殿部痛/急性腰痛症 0.7995136976242065\n",
      "M7919 筋肉痛/下肢筋肉痛/上肢筋肉痛 0.7989501953125\n",
      "R298 筋力低下/脱力感/項部硬直 0.7946784496307373\n",
      "M7969 下肢痛/上肢痛/四肢痛 0.7903015613555908\n",
      "G442 緊張型頭痛/筋収縮性頭痛/慢性緊張型頭痛 0.7902622222900391\n",
      "G471 過眠/特発性過眠症/過眠症 0.788785457611084\n"
     ]
    }
   ],
   "source": [
    "search_by_icd(\"R51\", model, icd_name) # 頭痛"
   ]
  },
  {
   "cell_type": "code",
   "execution_count": 5,
   "metadata": {},
   "outputs": [
    {
     "name": "stdout",
     "output_type": "stream",
     "text": [
      "C859 悪性リンパ腫/リンパ腫/胃悪性リンパ腫 0.8437418937683105\n",
      "C950 急性白血病/低形成性白血病/混合型性乳児急性白血病 0.7867615222930908\n",
      "C837 バーキットリンパ腫/Ｂｕｒｋｉｔｔ　ｌｙｍｐｈｏｍａ/Ｂｕｒｋｉｔｔリンパ腫 0.7503788471221924\n",
      "C831 マントル細胞リンパ腫/Ｍａｎｔｌｅ　ｃｅｌｌ　ｌｙｍｐｈｏｍａ/ｍａｎｔｌｅ　ｃｅｌｌ　ｌｙｍｐｈｏｍａ 0.7366767525672913\n",
      "C910 急性リンパ性白血病/小児急性リンパ性白血病/Ｔリンパ芽球性白血病 0.7136023044586182\n",
      "C819 ホジキンリンパ腫/結節硬化型ホジキンリンパ腫/Ｈｏｄｇｋｉｎリンパ腫 0.7068434953689575\n",
      "C951 慢性白血病 0.7054401636123657\n",
      "E800 プロトポルフィリン症/遺伝性赤芽球増殖性ポルフィリン症/赤芽球増殖性プロトポルフィリン症 0.6885898113250732\n",
      "C499 血管肉腫/肉腫/平滑筋肉腫 0.685517430305481\n",
      "C833 びまん性大細胞型Ｂ細胞性リンパ腫/中枢神経系原発びまん性大細胞型Ｂ細胞性リンパ腫/細網肉腫 0.6821224689483643\n"
     ]
    }
   ],
   "source": [
    "search_by_icd(\"C959\", model, icd_name)"
   ]
  }
 ],
 "metadata": {
  "kernelspec": {
   "display_name": "Python 3",
   "language": "python",
   "name": "python3"
  },
  "language_info": {
   "codemirror_mode": {
    "name": "ipython",
    "version": 3
   },
   "file_extension": ".py",
   "mimetype": "text/x-python",
   "name": "python",
   "nbconvert_exporter": "python",
   "pygments_lexer": "ipython3",
   "version": "3.7.6"
  }
 },
 "nbformat": 4,
 "nbformat_minor": 4
}
